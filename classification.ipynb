{
 "cells": [
  {
   "cell_type": "code",
   "execution_count": 1,
   "metadata": {},
   "outputs": [],
   "source": [
    "# To support both python 2 and python 3\n",
    "from __future__ import division, print_function, unicode_literals\n",
    "\n",
    "# Common imports\n",
    "import numpy as np\n",
    "import os\n",
    "\n",
    "# to make this notebook's output stable across runs\n",
    "np.random.seed(42)\n",
    "    \n",
    "# To plot pretty figures\n",
    "%matplotlib inline\n",
    "import matplotlib as mpl\n",
    "import matplotlib.pyplot as plt\n",
    "mpl.rc('axes', labelsize=40)\n",
    "mpl.rc('xtick', labelsize=20)\n",
    "mpl.rc('ytick', labelsize=20)\n",
    "\n",
    "# Where to save the figures\n",
    "PROJECT_ROOT_DIR = \".\"\n",
    "def save_fig(fig_id, tight_layout=True):\n",
    "    path = os.path.join(PROJECT_ROOT_DIR, fig_id + \".png\") \n",
    "    print(\"Saving figure\", fig_id)\n",
    "    if tight_layout:\n",
    "        plt.tight_layout()\n",
    "    plt.savefig(path, format='png', dpi=300)\n",
    "\n",
    "# Ignore useless warnings (see SciPy issue #5998)\n",
    "import warnings\n",
    "warnings.filterwarnings(action=\"ignore\", message=\"^internal gelsd\")\n",
    "\n",
    "import pandas as pd\n",
    "\n",
    "def plot_img(data):\n",
    "    plt.imshow(data, cmap = \"gray\",interpolation=\"nearest\")\n",
    "    plt.axis(\"off\")\n",
    "    \n",
    "import seaborn as sns\n"
   ]
  },
  {
   "cell_type": "code",
   "execution_count": 2,
   "metadata": {},
   "outputs": [
    {
     "name": "stdout",
     "output_type": "stream",
     "text": [
      "Number of rows in data = 330\n",
      "Number of columns in data = 7\n",
      "\n",
      "\n",
      "**Sample data:**\n"
     ]
    },
    {
     "data": {
      "text/html": [
       "<div>\n",
       "<style scoped>\n",
       "    .dataframe tbody tr th:only-of-type {\n",
       "        vertical-align: middle;\n",
       "    }\n",
       "\n",
       "    .dataframe tbody tr th {\n",
       "        vertical-align: top;\n",
       "    }\n",
       "\n",
       "    .dataframe thead th {\n",
       "        text-align: right;\n",
       "    }\n",
       "</style>\n",
       "<table border=\"1\" class=\"dataframe\">\n",
       "  <thead>\n",
       "    <tr style=\"text-align: right;\">\n",
       "      <th></th>\n",
       "      <th>tissue</th>\n",
       "      <th>abnormality</th>\n",
       "      <th>severity</th>\n",
       "      <th>radius_of_anormality</th>\n",
       "      <th>images</th>\n",
       "      <th>images_red_pca</th>\n",
       "      <th>tsne_imgs</th>\n",
       "    </tr>\n",
       "    <tr>\n",
       "      <th>id</th>\n",
       "      <th></th>\n",
       "      <th></th>\n",
       "      <th></th>\n",
       "      <th></th>\n",
       "      <th></th>\n",
       "      <th></th>\n",
       "      <th></th>\n",
       "    </tr>\n",
       "  </thead>\n",
       "  <tbody>\n",
       "    <tr>\n",
       "      <th>mdb001</th>\n",
       "      <td>2</td>\n",
       "      <td>3</td>\n",
       "      <td>0</td>\n",
       "      <td>197.0</td>\n",
       "      <td>[[0, 0, 0, 0, 0, 0, 0, 0, 0, 0, 0, 0, 0, 0, 0,...</td>\n",
       "      <td>[1856.997104142061, -593.0463311779507, -58.76...</td>\n",
       "      <td>[26.682732696702573, -12.617882278603377, -28....</td>\n",
       "    </tr>\n",
       "    <tr>\n",
       "      <th>mdb002</th>\n",
       "      <td>2</td>\n",
       "      <td>3</td>\n",
       "      <td>0</td>\n",
       "      <td>69.0</td>\n",
       "      <td>[[0, 0, 0, 0, 0, 0, 0, 0, 0, 0, 0, 0, 0, 0, 0,...</td>\n",
       "      <td>[1111.287717924491, 1488.2383065726756, 830.33...</td>\n",
       "      <td>[-21.012348590995884, 12.174757770665591, -21....</td>\n",
       "    </tr>\n",
       "    <tr>\n",
       "      <th>mdb003</th>\n",
       "      <td>0</td>\n",
       "      <td>5</td>\n",
       "      <td>2</td>\n",
       "      <td>-99999.0</td>\n",
       "      <td>[[0, 0, 0, 0, 0, 0, 0, 0, 0, 0, 0, 0, 0, 0, 0,...</td>\n",
       "      <td>[-714.8415995397945, 980.3099589148345, 1588.8...</td>\n",
       "      <td>[-9.462850278535003, 19.914231049654624, -12.3...</td>\n",
       "    </tr>\n",
       "    <tr>\n",
       "      <th>mdb004</th>\n",
       "      <td>0</td>\n",
       "      <td>5</td>\n",
       "      <td>2</td>\n",
       "      <td>-99999.0</td>\n",
       "      <td>[[0, 0, 0, 0, 0, 0, 0, 0, 0, 0, 0, 0, 0, 0, 0,...</td>\n",
       "      <td>[2101.46896962869, -1386.7266064525736, -130.1...</td>\n",
       "      <td>[10.189734503403798, 33.271325305346636, 10.24...</td>\n",
       "    </tr>\n",
       "    <tr>\n",
       "      <th>mdb005</th>\n",
       "      <td>1</td>\n",
       "      <td>3</td>\n",
       "      <td>0</td>\n",
       "      <td>30.0</td>\n",
       "      <td>[[0, 0, 0, 0, 0, 0, 0, 0, 0, 0, 0, 0, 0, 0, 0,...</td>\n",
       "      <td>[508.4129705830418, 1963.7231552374446, 1050.0...</td>\n",
       "      <td>[3.7929075627512217, 31.827571780049805, -2.26...</td>\n",
       "    </tr>\n",
       "  </tbody>\n",
       "</table>\n",
       "</div>"
      ],
      "text/plain": [
       "        tissue  abnormality  severity  radius_of_anormality  \\\n",
       "id                                                            \n",
       "mdb001       2            3         0                 197.0   \n",
       "mdb002       2            3         0                  69.0   \n",
       "mdb003       0            5         2              -99999.0   \n",
       "mdb004       0            5         2              -99999.0   \n",
       "mdb005       1            3         0                  30.0   \n",
       "\n",
       "                                                   images  \\\n",
       "id                                                          \n",
       "mdb001  [[0, 0, 0, 0, 0, 0, 0, 0, 0, 0, 0, 0, 0, 0, 0,...   \n",
       "mdb002  [[0, 0, 0, 0, 0, 0, 0, 0, 0, 0, 0, 0, 0, 0, 0,...   \n",
       "mdb003  [[0, 0, 0, 0, 0, 0, 0, 0, 0, 0, 0, 0, 0, 0, 0,...   \n",
       "mdb004  [[0, 0, 0, 0, 0, 0, 0, 0, 0, 0, 0, 0, 0, 0, 0,...   \n",
       "mdb005  [[0, 0, 0, 0, 0, 0, 0, 0, 0, 0, 0, 0, 0, 0, 0,...   \n",
       "\n",
       "                                           images_red_pca  \\\n",
       "id                                                          \n",
       "mdb001  [1856.997104142061, -593.0463311779507, -58.76...   \n",
       "mdb002  [1111.287717924491, 1488.2383065726756, 830.33...   \n",
       "mdb003  [-714.8415995397945, 980.3099589148345, 1588.8...   \n",
       "mdb004  [2101.46896962869, -1386.7266064525736, -130.1...   \n",
       "mdb005  [508.4129705830418, 1963.7231552374446, 1050.0...   \n",
       "\n",
       "                                                tsne_imgs  \n",
       "id                                                         \n",
       "mdb001  [26.682732696702573, -12.617882278603377, -28....  \n",
       "mdb002  [-21.012348590995884, 12.174757770665591, -21....  \n",
       "mdb003  [-9.462850278535003, 19.914231049654624, -12.3...  \n",
       "mdb004  [10.189734503403798, 33.271325305346636, 10.24...  \n",
       "mdb005  [3.7929075627512217, 31.827571780049805, -2.26...  "
      ]
     },
     "execution_count": 2,
     "metadata": {},
     "output_type": "execute_result"
    }
   ],
   "source": [
    "#data = pd.read_pickle('final_data')\n",
    "#data = pd.read_pickle('final_data_augmented_2')\n",
    "data = pd.read_pickle('final_data_img_no_preprocessed')\n",
    "\n",
    "print(\"Number of rows in data =\",data.shape[0])\n",
    "print(\"Number of columns in data =\",data.shape[1])\n",
    "print(\"\\n\")\n",
    "print(\"**Sample data:**\")\n",
    "data['tsne_imgs'] = data['tsne_imgs'].apply(np.ravel)\n",
    "data['images_red_pca'] = data['images_red_pca'].apply(np.ravel)\n",
    "data.head()\n",
    "\n"
   ]
  },
  {
   "cell_type": "code",
   "execution_count": 98,
   "metadata": {},
   "outputs": [
    {
     "name": "stdout",
     "output_type": "stream",
     "text": [
      "b False    261\n",
      "True      69\n",
      "Name: severity, dtype: int64\n",
      "m False    276\n",
      "True      54\n",
      "Name: severity, dtype: int64\n",
      "n True     207\n",
      "False    123\n",
      "Name: severity, dtype: int64\n"
     ]
    }
   ],
   "source": [
    "print('b',(data['severity'] ==0).value_counts())\n",
    "print('m',(data['severity'] ==1).value_counts())\n",
    "print('n',(data['severity'] ==2).value_counts())"
   ]
  },
  {
   "cell_type": "code",
   "execution_count": 5,
   "metadata": {},
   "outputs": [
    {
     "data": {
      "text/plain": [
       "((330, 2048), (330,))"
      ]
     },
     "execution_count": 5,
     "metadata": {},
     "output_type": "execute_result"
    }
   ],
   "source": [
    "x_t = np.array(data['tsne_imgs'].apply(np.ravel))\n",
    "y = np.array(data['severity'])\n",
    "\n",
    "X = np.array([x for x in x_t])\n",
    "X.shape, y.shape"
   ]
  },
  {
   "cell_type": "code",
   "execution_count": null,
   "metadata": {},
   "outputs": [],
   "source": [
    "from sklearn.feature_selection import mutual_info_classif\n",
    "\n",
    "from sklearn.model_selection import StratifiedKFold\n",
    "from sklearn.feature_selection import SelectKBest\n",
    "from sklearn.feature_selection import f_classif\n",
    "from sklearn.feature_selection import mutual_info_classif\n",
    "\n",
    "max_score = 0\n",
    "from sklearn.model_selection import cross_val_score\n",
    "from sklearn.model_selection import train_test_split\n",
    "from sklearn.neighbors import KNeighborsClassifier\n",
    "\n",
    "lr = KNeighborsClassifier(algorithm='auto', leaf_size=30, metric='euclidean',\n",
    "             metric_params=None, n_jobs=-1, n_neighbors=15, p=2,\n",
    "             weights='distance')\n",
    "\n",
    "for i in range(0, X.shape[1]):\n",
    "    # Feature selection\n",
    "    select = SelectKBest(f_classif, k=i+1)\n",
    "    select.fit(X, y)  # Computes the statistical relationship between the features and the output\n",
    "    X_selected = select.transform(X)  # Reduces the number of features to k\n",
    "\n",
    "    #test split\n",
    "    X_train, x_test, y_train, y_test = train_test_split(X_selected, y,test_size=0.20, random_state=42 )\n",
    "\n",
    "    lr.fit(X_selected, y)\n",
    "    strat_kfold = StratifiedKFold(10, random_state=7)\n",
    "    score = cross_val_score(lr, X_train, y_train, scoring='accuracy', cv=strat_kfold, n_jobs=-1)\n",
    "    print('CV score: %.3f +/- %.3f' % (np.mean(score), np.std(score)))\n",
    "\n",
    "    # Optimal number of features\n",
    "    if np.mean(score) > max_score:\n",
    "        max_score = np.mean(score)\n",
    "        best_n_features = i\n",
    "        mask = select.get_support(indices=True)\n",
    "\n",
    "print('\\nThe optimal number of features is: %i' % best_n_features)\n",
    "print('The maximum score is: %.3f' % max_score)\n",
    "print('The optimal features are: ', mask)\n"
   ]
  },
  {
   "cell_type": "code",
   "execution_count": 99,
   "metadata": {},
   "outputs": [],
   "source": [
    "#data['severity'] = data['severity'].replace(0,1)  #for 2 labels"
   ]
  },
  {
   "cell_type": "code",
   "execution_count": 4,
   "metadata": {},
   "outputs": [
    {
     "data": {
      "text/plain": [
       "((330, 2051), (330,))"
      ]
     },
     "execution_count": 4,
     "metadata": {},
     "output_type": "execute_result"
    }
   ],
   "source": [
    "x_1 = np.array(data['tissue'])\n",
    "x_2 = np.array(data['abnormality'])\n",
    "x_3 = np.array(data['radius_of_anormality'])\n",
    "x_t = data['tsne_imgs'].apply(np.ravel)\n",
    "#x_t = data['images'].apply(np.ravel)\n",
    "\n",
    "y = np.array(data['severity'])\n",
    "\n",
    "X = np.column_stack((x_1,x_2,x_3, [x for x in x_t]))\n",
    "X.shape, y.shape"
   ]
  },
  {
   "cell_type": "code",
   "execution_count": null,
   "metadata": {},
   "outputs": [],
   "source": [
    "#np.save('mask_ft',np.array(mask))"
   ]
  },
  {
   "cell_type": "code",
   "execution_count": 9,
   "metadata": {},
   "outputs": [],
   "source": [
    "\n",
    "#select N features (17 after performing previous selection)\n",
    "from sklearn.feature_selection import SelectKBest\n",
    "from sklearn.feature_selection import f_classif\n",
    "from sklearn.feature_selection import mutual_info_classif\n",
    "# Create an SelectKBest object to select features with two best ANOVA F-Values\n",
    "fvalue_selector = SelectKBest(f_classif, k=17)\n",
    "\n",
    "# Apply the SelectKBest object to the features and target\n",
    "X_kbest = fvalue_selector.fit_transform(X, y)\n",
    "#mask = X_kbest.get_support(indices=True)\n",
    "#mask\n"
   ]
  },
  {
   "cell_type": "code",
   "execution_count": 7,
   "metadata": {},
   "outputs": [],
   "source": [
    "from sklearn.model_selection import cross_val_score\n",
    "from sklearn.model_selection import train_test_split\n"
   ]
  },
  {
   "cell_type": "code",
   "execution_count": 10,
   "metadata": {},
   "outputs": [
    {
     "data": {
      "text/plain": [
       "((264, 17), (66, 17), (264,), (66,))"
      ]
     },
     "execution_count": 10,
     "metadata": {},
     "output_type": "execute_result"
    }
   ],
   "source": [
    "X_train, x_test, y_train, y_test = train_test_split(X_kbest, y,test_size=0.20, random_state=42 )\n",
    "#X_train, x_test, y_train, y_test = train_test_split(X[:,mask], y,test_size=0.20, random_state=42)  #use the indices of top features\n",
    "X_train.shape, x_test.shape, y_train.shape, y_test.shape"
   ]
  },
  {
   "cell_type": "code",
   "execution_count": 12,
   "metadata": {},
   "outputs": [],
   "source": [
    "def plot_confusion_matrix(matrix):\n",
    "    \"\"\"If you prefer color and a colorbar\"\"\"\n",
    "    fig = plt.figure(figsize=(8,8))\n",
    "    ax = fig.add_subplot(111)\n",
    "    cax = ax.matshow(matrix)\n",
    "    fig.colorbar(cax)"
   ]
  },
  {
   "cell_type": "code",
   "execution_count": 13,
   "metadata": {},
   "outputs": [],
   "source": [
    "from sklearn.model_selection import RandomizedSearchCV\n",
    "from scipy.stats import expon, reciprocal"
   ]
  },
  {
   "cell_type": "code",
   "execution_count": 50,
   "metadata": {},
   "outputs": [
    {
     "data": {
      "text/plain": [
       "RandomizedSearchCV(cv=5, error_score='raise-deprecating',\n",
       "          estimator=KNeighborsClassifier(algorithm='auto', leaf_size=30, metric='minkowski',\n",
       "           metric_params=None, n_jobs=None, n_neighbors=5, p=2,\n",
       "           weights='uniform'),\n",
       "          fit_params=None, iid='warn', n_iter=20, n_jobs=-1,\n",
       "          param_distributions={'n_neighbors': [3, 5, 8, 11, 15], 'weights': ['uniform', 'distance'], 'metric': ['euclidean', 'manhattan', 'minkowski']},\n",
       "          pre_dispatch='2*n_jobs', random_state=7, refit=True,\n",
       "          return_train_score='warn', scoring=None, verbose=0)"
      ]
     },
     "execution_count": 50,
     "metadata": {},
     "output_type": "execute_result"
    }
   ],
   "source": [
    "\n",
    "from sklearn import neighbors\n",
    "param_distribs = {\n",
    "        'n_neighbors': [3,5,8,11,15],\n",
    "        'weights': ['uniform','distance'],\n",
    "        'metric': ['euclidean', 'manhattan','minkowski'],\n",
    "    }\n",
    "\n",
    "knn_reg = neighbors.KNeighborsClassifier()\n",
    "knn_search = RandomizedSearchCV(knn_reg, param_distributions=param_distribs,\n",
    "                                n_iter=20, cv=5, verbose=0, n_jobs=-1, random_state=7)\n",
    "knn_search.fit(X_train, y_train)\n",
    "print(knn_search.score(x_test,y_test))\n",
    "knn_search.best_estimator_"
   ]
  },
  {
   "cell_type": "code",
   "execution_count": 13,
   "metadata": {},
   "outputs": [],
   "source": [
    "from sklearn.metrics import confusion_matrix\n",
    "from sklearn.model_selection import cross_val_score\n",
    "from sklearn.model_selection import cross_val_predict"
   ]
  },
  {
   "cell_type": "code",
   "execution_count": 54,
   "metadata": {},
   "outputs": [
    {
     "data": {
      "image/png": "[encoded data removed]",
      "text/plain": [
       "<Figure size 288x288 with 1 Axes>"
      ]
     },
     "metadata": {
      "needs_background": "light"
     },
     "output_type": "display_data"
    },
    {
     "name": "stdout",
     "output_type": "stream",
     "text": [
      "[[21  0]\n",
      " [ 0 45]]\n",
      "              precision    recall  f1-score   support\n",
      "\n",
      "           M       1.00      1.00      1.00        21\n",
      "           N       1.00      1.00      1.00        45\n",
      "\n",
      "   micro avg       1.00      1.00      1.00        66\n",
      "   macro avg       1.00      1.00      1.00        66\n",
      "weighted avg       1.00      1.00      1.00        66\n",
      "\n"
     ]
    },
    {
     "data": {
      "image/png": "[encoded data removed]",
      "text/plain": [
       "<Figure size 576x576 with 2 Axes>"
      ]
     },
     "metadata": {
      "needs_background": "light"
     },
     "output_type": "display_data"
    }
   ],
   "source": [
    "\n",
    "y_train_pred = cross_val_predict(knn_search.best_estimator_, x_test, y_test, cv=10)\n",
    "conf_mx = confusion_matrix(y_test, y_train_pred)\n",
    "\n",
    "plt.matshow(conf_mx, cmap=plt.cm.gray)\n",
    "#save_fig(\"confusion_matrix_plot\", tight_layout=False)\n",
    "plt.show()\n",
    "\n",
    "plot_confusion_matrix(conf_mx)\n",
    "\n",
    "print(conf_mx)\n",
    "\n",
    "from sklearn.metrics import classification_report\n",
    "\n",
    "#target_names = ['B','M','N']\n",
    "target_names = ['M','N']\n",
    "print(classification_report(y_test, y_train_pred, target_names=target_names))\n",
    "\n"
   ]
  },
  {
   "cell_type": "code",
   "execution_count": 73,
   "metadata": {},
   "outputs": [
    {
     "name": "stderr",
     "output_type": "stream",
     "text": [
      "/home/jer/.local/lib/python3.7/site-packages/sklearn/ensemble/forest.py:246: FutureWarning: The default value of n_estimators will change from 10 in version 0.20 to 100 in 0.22.\n",
      "  \"10 in version 0.20 to 100 in 0.22.\", FutureWarning)\n"
     ]
    },
    {
     "data": {
      "text/plain": [
       "0.9848484848484849"
      ]
     },
     "execution_count": 73,
     "metadata": {},
     "output_type": "execute_result"
    }
   ],
   "source": [
    "from sklearn.ensemble import RandomForestClassifierr\n",
    "from sklearn.ensemble import ExtraTreesClassifier\n",
    "from sklearn.multiclass import OneVsOneClassifier\n",
    "\n",
    "#ovo_clf = OneVsOneClassifier(forest_clf.best_estimator_)\n",
    "ovo_clf = OneVsOneClassifier(ExtraTreesClassifier(bootstrap=False, class_weight=None, criterion='gini',  max_depth=None,\n",
    "                            max_features='auto', max_leaf_nodes=None, min_impurity_decrease=0.0,\n",
    "                            min_impurity_split=None,  min_samples_leaf=1, min_samples_split=2,\n",
    "                            min_weight_fraction_leaf=0.0, n_estimators='warn', n_jobs=-1, oob_score=False,\n",
    "                            random_state=7, verbose=0, warm_start=False))\n",
    "\n",
    "ovo_clf.fit(X_train, y_train)\n",
    "ovo_clf.score(x_test, y_test)\n"
   ]
  },
  {
   "cell_type": "code",
   "execution_count": 74,
   "metadata": {},
   "outputs": [
    {
     "name": "stderr",
     "output_type": "stream",
     "text": [
      "/home/jer/.local/lib/python3.7/site-packages/sklearn/ensemble/forest.py:246: FutureWarning: The default value of n_estimators will change from 10 in version 0.20 to 100 in 0.22.\n",
      "  \"10 in version 0.20 to 100 in 0.22.\", FutureWarning)\n",
      "/home/jer/.local/lib/python3.7/site-packages/sklearn/ensemble/forest.py:246: FutureWarning: The default value of n_estimators will change from 10 in version 0.20 to 100 in 0.22.\n",
      "  \"10 in version 0.20 to 100 in 0.22.\", FutureWarning)\n",
      "/home/jer/.local/lib/python3.7/site-packages/sklearn/ensemble/forest.py:246: FutureWarning: The default value of n_estimators will change from 10 in version 0.20 to 100 in 0.22.\n",
      "  \"10 in version 0.20 to 100 in 0.22.\", FutureWarning)\n",
      "/home/jer/.local/lib/python3.7/site-packages/sklearn/ensemble/forest.py:246: FutureWarning: The default value of n_estimators will change from 10 in version 0.20 to 100 in 0.22.\n",
      "  \"10 in version 0.20 to 100 in 0.22.\", FutureWarning)\n",
      "/home/jer/.local/lib/python3.7/site-packages/sklearn/ensemble/forest.py:246: FutureWarning: The default value of n_estimators will change from 10 in version 0.20 to 100 in 0.22.\n",
      "  \"10 in version 0.20 to 100 in 0.22.\", FutureWarning)\n",
      "/home/jer/.local/lib/python3.7/site-packages/sklearn/ensemble/forest.py:246: FutureWarning: The default value of n_estimators will change from 10 in version 0.20 to 100 in 0.22.\n",
      "  \"10 in version 0.20 to 100 in 0.22.\", FutureWarning)\n",
      "/home/jer/.local/lib/python3.7/site-packages/sklearn/ensemble/forest.py:246: FutureWarning: The default value of n_estimators will change from 10 in version 0.20 to 100 in 0.22.\n",
      "  \"10 in version 0.20 to 100 in 0.22.\", FutureWarning)\n",
      "/home/jer/.local/lib/python3.7/site-packages/sklearn/ensemble/forest.py:246: FutureWarning: The default value of n_estimators will change from 10 in version 0.20 to 100 in 0.22.\n",
      "  \"10 in version 0.20 to 100 in 0.22.\", FutureWarning)\n",
      "/home/jer/.local/lib/python3.7/site-packages/sklearn/ensemble/forest.py:246: FutureWarning: The default value of n_estimators will change from 10 in version 0.20 to 100 in 0.22.\n",
      "  \"10 in version 0.20 to 100 in 0.22.\", FutureWarning)\n",
      "/home/jer/.local/lib/python3.7/site-packages/sklearn/ensemble/forest.py:246: FutureWarning: The default value of n_estimators will change from 10 in version 0.20 to 100 in 0.22.\n",
      "  \"10 in version 0.20 to 100 in 0.22.\", FutureWarning)\n"
     ]
    },
    {
     "data": {
      "image/png": "[encoded data removed]",
      "text/plain": [
       "<Figure size 288x288 with 1 Axes>"
      ]
     },
     "metadata": {
      "needs_background": "light"
     },
     "output_type": "display_data"
    },
    {
     "name": "stdout",
     "output_type": "stream",
     "text": [
      "[[11 10]\n",
      " [ 0 45]]\n",
      "              precision    recall  f1-score   support\n",
      "\n",
      "           C       1.00      0.52      0.69        21\n",
      "           N       0.82      1.00      0.90        45\n",
      "\n",
      "   micro avg       0.85      0.85      0.85        66\n",
      "   macro avg       0.91      0.76      0.79        66\n",
      "weighted avg       0.88      0.85      0.83        66\n",
      "\n"
     ]
    },
    {
     "data": {
      "image/png": "[encoded data removed]",
      "text/plain": [
       "<Figure size 576x576 with 2 Axes>"
      ]
     },
     "metadata": {
      "needs_background": "light"
     },
     "output_type": "display_data"
    }
   ],
   "source": [
    "y_train_pred = cross_val_predict(ovo_clf, x_test, y_test, cv=10)\n",
    "conf_mx = confusion_matrix(y_test, y_train_pred)\n",
    "\n",
    "plt.matshow(conf_mx, cmap=plt.cm.gray)\n",
    "#save_fig(\"confusion_matrix_plot\", tight_layout=False)\n",
    "plt.show()\n",
    "\n",
    "plot_confusion_matrix(conf_mx)\n",
    "\n",
    "print(conf_mx)\n",
    "\n",
    "from sklearn.metrics import classification_report\n",
    "\n",
    "target_names = ['C','N']\n",
    "#target_names = ['B','M','N']\n",
    "print(classification_report(y_test, y_train_pred, target_names=target_names))\n",
    "\n"
   ]
  },
  {
   "cell_type": "code",
   "execution_count": 56,
   "metadata": {},
   "outputs": [
    {
     "name": "stderr",
     "output_type": "stream",
     "text": [
      "/home/jer/.local/lib/python3.7/site-packages/sklearn/model_selection/_search.py:271: UserWarning: The total space of parameters 16 is smaller than n_iter=20. Running 16 iterations. For exhaustive searches, use GridSearchCV.\n",
      "  % (grid_size, self.n_iter, grid_size), UserWarning)\n"
     ]
    },
    {
     "data": {
      "text/plain": [
       "RandomizedSearchCV(cv=3, error_score='raise-deprecating',\n",
       "          estimator=RandomForestClassifier(bootstrap=True, class_weight=None, criterion='gini',\n",
       "            max_depth=None, max_features='auto', max_leaf_nodes=None,\n",
       "            min_impurity_decrease=0.0, min_impurity_split=None,\n",
       "            min_samples_leaf=1, min_samples_split=2,\n",
       "            min_weight_fraction_leaf=0.0, n_estimators=10, n_jobs=None,\n",
       "            oob_score=False, random_state=7, verbose=0, warm_start=False),\n",
       "          fit_params=None, iid='warn', n_iter=20, n_jobs=-1,\n",
       "          param_distributions={'criterion': ['gini', 'entropy'], 'max_features': ['auto', 'sqrt', 'log2', None], 'bootstrap': [True, False]},\n",
       "          pre_dispatch='2*n_jobs', random_state=7, refit=True,\n",
       "          return_train_score='warn', scoring=None, verbose=0)"
      ]
     },
     "execution_count": 56,
     "metadata": {},
     "output_type": "execute_result"
    }
   ],
   "source": [
    "from sklearn.ensemble import RandomForestClassifier\n",
    "\n",
    "param_distribs = {\n",
    "        'criterion': ['gini','entropy'],\n",
    "        'max_features': ['auto','sqrt','log2',None],\n",
    "        'bootstrap': [True, False],\n",
    "    }\n",
    "\n",
    "forest_clf = RandomForestClassifier(n_estimators=10, verbose=0,random_state= 7)\n",
    "forest_clf = RandomizedSearchCV(forest_clf, param_distributions=param_distribs, \n",
    "                                n_iter=20, cv=3, verbose=0, n_jobs=-1, random_state=7)\n",
    "forest_clf.fit(X_train, y_train)\n"
   ]
  },
  {
   "cell_type": "code",
   "execution_count": 27,
   "metadata": {},
   "outputs": [
    {
     "data": {
      "text/plain": [
       "0.8939393939393939"
      ]
     },
     "execution_count": 27,
     "metadata": {},
     "output_type": "execute_result"
    }
   ],
   "source": [
    "forest_clf.best_estimator_.score(x_test, y_test)"
   ]
  },
  {
   "cell_type": "code",
   "execution_count": 58,
   "metadata": {},
   "outputs": [
    {
     "data": {
      "image/png": "[encoded data removed]",
      "text/plain": [
       "<Figure size 288x288 with 1 Axes>"
      ]
     },
     "metadata": {
      "needs_background": "light"
     },
     "output_type": "display_data"
    },
    {
     "name": "stdout",
     "output_type": "stream",
     "text": [
      "[[20  1]\n",
      " [ 1 44]]\n",
      "              precision    recall  f1-score   support\n",
      "\n",
      "           C       0.95      0.95      0.95        21\n",
      "           N       0.98      0.98      0.98        45\n",
      "\n",
      "   micro avg       0.97      0.97      0.97        66\n",
      "   macro avg       0.97      0.97      0.97        66\n",
      "weighted avg       0.97      0.97      0.97        66\n",
      "\n"
     ]
    }
   ],
   "source": [
    "y_train_pred = cross_val_predict(forest_clf.best_estimator_, x_test, y_test, cv=10)\n",
    "conf_mx = confusion_matrix(y_test, y_train_pred)\n",
    "\n",
    "plt.matshow(conf_mx, cmap=plt.cm.gray)\n",
    "#save_fig(\"confusion_matrix_plot\", tight_layout=False)\n",
    "plt.show()\n",
    "\n",
    "#plot_confusion_matrix(conf_mx)\n",
    "\n",
    "print(conf_mx)\n",
    "\n",
    "from sklearn.metrics import classification_report\n",
    "\n",
    "#target_names = ['B','M','N']\n",
    "target_names = ['C','N']\n",
    "print(classification_report(y_test, y_train_pred, target_names=target_names))\n",
    "\n"
   ]
  },
  {
   "cell_type": "code",
   "execution_count": 16,
   "metadata": {},
   "outputs": [
    {
     "name": "stderr",
     "output_type": "stream",
     "text": [
      "/home/jer/.local/lib/python3.7/site-packages/sklearn/svm/base.py:196: FutureWarning: The default value of gamma will change from 'auto' to 'scale' in version 0.22 to account better for unscaled features. Set gamma explicitly to 'auto' or 'scale' to avoid this warning.\n",
      "  \"avoid this warning.\", FutureWarning)\n"
     ]
    },
    {
     "data": {
      "text/plain": [
       "0.6818181818181818"
      ]
     },
     "execution_count": 16,
     "metadata": {},
     "output_type": "execute_result"
    }
   ],
   "source": [
    "#SVC\n",
    "from sklearn.svm import SVC\n",
    "svc = SVC()\n",
    "\n",
    "svc.fit(X_train, y_train)\n",
    "svc.score(x_test, y_test)"
   ]
  },
  {
   "cell_type": "code",
   "execution_count": 76,
   "metadata": {},
   "outputs": [
    {
     "name": "stderr",
     "output_type": "stream",
     "text": [
      "/home/jer/.local/lib/python3.7/site-packages/sklearn/svm/base.py:196: FutureWarning: The default value of gamma will change from 'auto' to 'scale' in version 0.22 to account better for unscaled features. Set gamma explicitly to 'auto' or 'scale' to avoid this warning.\n",
      "  \"avoid this warning.\", FutureWarning)\n",
      "/home/jer/.local/lib/python3.7/site-packages/sklearn/svm/base.py:196: FutureWarning: The default value of gamma will change from 'auto' to 'scale' in version 0.22 to account better for unscaled features. Set gamma explicitly to 'auto' or 'scale' to avoid this warning.\n",
      "  \"avoid this warning.\", FutureWarning)\n",
      "/home/jer/.local/lib/python3.7/site-packages/sklearn/svm/base.py:196: FutureWarning: The default value of gamma will change from 'auto' to 'scale' in version 0.22 to account better for unscaled features. Set gamma explicitly to 'auto' or 'scale' to avoid this warning.\n",
      "  \"avoid this warning.\", FutureWarning)\n",
      "/home/jer/.local/lib/python3.7/site-packages/sklearn/svm/base.py:196: FutureWarning: The default value of gamma will change from 'auto' to 'scale' in version 0.22 to account better for unscaled features. Set gamma explicitly to 'auto' or 'scale' to avoid this warning.\n",
      "  \"avoid this warning.\", FutureWarning)\n",
      "/home/jer/.local/lib/python3.7/site-packages/sklearn/svm/base.py:196: FutureWarning: The default value of gamma will change from 'auto' to 'scale' in version 0.22 to account better for unscaled features. Set gamma explicitly to 'auto' or 'scale' to avoid this warning.\n",
      "  \"avoid this warning.\", FutureWarning)\n",
      "/home/jer/.local/lib/python3.7/site-packages/sklearn/svm/base.py:196: FutureWarning: The default value of gamma will change from 'auto' to 'scale' in version 0.22 to account better for unscaled features. Set gamma explicitly to 'auto' or 'scale' to avoid this warning.\n",
      "  \"avoid this warning.\", FutureWarning)\n",
      "/home/jer/.local/lib/python3.7/site-packages/sklearn/svm/base.py:196: FutureWarning: The default value of gamma will change from 'auto' to 'scale' in version 0.22 to account better for unscaled features. Set gamma explicitly to 'auto' or 'scale' to avoid this warning.\n",
      "  \"avoid this warning.\", FutureWarning)\n",
      "/home/jer/.local/lib/python3.7/site-packages/sklearn/svm/base.py:196: FutureWarning: The default value of gamma will change from 'auto' to 'scale' in version 0.22 to account better for unscaled features. Set gamma explicitly to 'auto' or 'scale' to avoid this warning.\n",
      "  \"avoid this warning.\", FutureWarning)\n",
      "/home/jer/.local/lib/python3.7/site-packages/sklearn/svm/base.py:196: FutureWarning: The default value of gamma will change from 'auto' to 'scale' in version 0.22 to account better for unscaled features. Set gamma explicitly to 'auto' or 'scale' to avoid this warning.\n",
      "  \"avoid this warning.\", FutureWarning)\n",
      "/home/jer/.local/lib/python3.7/site-packages/sklearn/svm/base.py:196: FutureWarning: The default value of gamma will change from 'auto' to 'scale' in version 0.22 to account better for unscaled features. Set gamma explicitly to 'auto' or 'scale' to avoid this warning.\n",
      "  \"avoid this warning.\", FutureWarning)\n"
     ]
    },
    {
     "data": {
      "image/png": "[encoded data removed]",
      "text/plain": [
       "<Figure size 288x288 with 1 Axes>"
      ]
     },
     "metadata": {
      "needs_background": "light"
     },
     "output_type": "display_data"
    },
    {
     "name": "stdout",
     "output_type": "stream",
     "text": [
      "[[ 0 21]\n",
      " [ 0 45]]\n",
      "              precision    recall  f1-score   support\n",
      "\n",
      "           C       0.00      0.00      0.00        21\n",
      "           N       0.68      1.00      0.81        45\n",
      "\n",
      "   micro avg       0.68      0.68      0.68        66\n",
      "   macro avg       0.34      0.50      0.41        66\n",
      "weighted avg       0.46      0.68      0.55        66\n",
      "\n"
     ]
    },
    {
     "name": "stderr",
     "output_type": "stream",
     "text": [
      "/home/jer/.local/lib/python3.7/site-packages/sklearn/metrics/classification.py:1143: UndefinedMetricWarning: Precision and F-score are ill-defined and being set to 0.0 in labels with no predicted samples.\n",
      "  'precision', 'predicted', average, warn_for)\n",
      "/home/jer/.local/lib/python3.7/site-packages/sklearn/metrics/classification.py:1143: UndefinedMetricWarning: Precision and F-score are ill-defined and being set to 0.0 in labels with no predicted samples.\n",
      "  'precision', 'predicted', average, warn_for)\n",
      "/home/jer/.local/lib/python3.7/site-packages/sklearn/metrics/classification.py:1143: UndefinedMetricWarning: Precision and F-score are ill-defined and being set to 0.0 in labels with no predicted samples.\n",
      "  'precision', 'predicted', average, warn_for)\n"
     ]
    }
   ],
   "source": [
    "y_train_pred = cross_val_predict(svc, x_test, y_test, cv=10)\n",
    "conf_mx = confusion_matrix(y_test, y_train_pred)\n",
    "\n",
    "plt.matshow(conf_mx, cmap=plt.cm.gray)\n",
    "#save_fig(\"confusion_matrix_plot\", tight_layout=False)\n",
    "plt.show()\n",
    "\n",
    "#plot_confusion_matrix(conf_mx)\n",
    "\n",
    "print(conf_mx)\n",
    "\n",
    "from sklearn.metrics import classification_report\n",
    "\n",
    "#target_names = ['B','M','N']\n",
    "target_names = ['C','N']\n",
    "print(classification_report(y_test, y_train_pred, target_names=target_names))\n",
    "\n"
   ]
  },
  {
   "cell_type": "code",
   "execution_count": 82,
   "metadata": {},
   "outputs": [
    {
     "name": "stderr",
     "output_type": "stream",
     "text": [
      "/home/jer/.local/lib/python3.7/site-packages/sklearn/ensemble/forest.py:246: FutureWarning: The default value of n_estimators will change from 10 in version 0.20 to 100 in 0.22.\n",
      "  \"10 in version 0.20 to 100 in 0.22.\", FutureWarning)\n"
     ]
    },
    {
     "data": {
      "text/plain": [
       "1.0"
      ]
     },
     "execution_count": 82,
     "metadata": {},
     "output_type": "execute_result"
    }
   ],
   "source": [
    "#\n",
    "from sklearn.ensemble import ExtraTreesClassifier\n",
    "\n",
    "mlp = ExtraTreesClassifier(bootstrap=False, class_weight=None, criterion='gini',  max_depth=None,\n",
    "                            max_features='auto', max_leaf_nodes=None, min_impurity_decrease=0.0,\n",
    "                            min_impurity_split=None,  min_samples_leaf=1, min_samples_split=2,\n",
    "                            min_weight_fraction_leaf=0.0, n_estimators='warn', n_jobs=-1, oob_score=False,\n",
    "                            random_state=7, verbose=0, warm_start=False)\n",
    "\n",
    "mlp.fit(X_train, y_train)\n",
    "mlp.score(x_test, y_test)"
   ]
  },
  {
   "cell_type": "code",
   "execution_count": 84,
   "metadata": {},
   "outputs": [
    {
     "data": {
      "image/png": "[encoded data removed]",
      "text/plain": [
       "<Figure size 288x288 with 1 Axes>"
      ]
     },
     "metadata": {
      "needs_background": "light"
     },
     "output_type": "display_data"
    },
    {
     "name": "stdout",
     "output_type": "stream",
     "text": [
      "[[21  0]\n",
      " [ 0 45]]\n",
      "              precision    recall  f1-score   support\n",
      "\n",
      "           M       1.00      1.00      1.00        21\n",
      "           N       1.00      1.00      1.00        45\n",
      "\n",
      "   micro avg       1.00      1.00      1.00        66\n",
      "   macro avg       1.00      1.00      1.00        66\n",
      "weighted avg       1.00      1.00      1.00        66\n",
      "\n"
     ]
    },
    {
     "data": {
      "image/png": "[encoded data removed]",
      "text/plain": [
       "<Figure size 576x576 with 2 Axes>"
      ]
     },
     "metadata": {
      "needs_background": "light"
     },
     "output_type": "display_data"
    }
   ],
   "source": [
    "y_train_pred = cross_val_predict(mlp, x_test, y_test, cv=10)\n",
    "conf_mx = confusion_matrix(y_test, y_train_pred)\n",
    "\n",
    "plt.matshow(conf_mx, cmap=plt.cm.gray)\n",
    "#save_fig(\"confusion_matrix_plot\", tight_layout=False)\n",
    "plt.show()\n",
    "\n",
    "plot_confusion_matrix(conf_mx)\n",
    "\n",
    "print(conf_mx)\n",
    "\n",
    "from sklearn.metrics import classification_report\n",
    "\n",
    "target_names = ['M','N']\n",
    "#target_names = ['B','M','N']\n",
    "print(classification_report(y_test, y_train_pred, target_names=target_names))\n",
    "\n"
   ]
  }
 ],
 "metadata": {
  "kernelspec": {
   "display_name": "Python 3",
   "language": "python",
   "name": "python3"
  },
  "language_info": {
   "codemirror_mode": {
    "name": "ipython",
    "version": 3
   },
   "file_extension": ".py",
   "mimetype": "text/x-python",
   "name": "python",
   "nbconvert_exporter": "python",
   "pygments_lexer": "ipython3",
   "version": "3.7.3"
  }
 },
 "nbformat": 4,
 "nbformat_minor": 2
}
